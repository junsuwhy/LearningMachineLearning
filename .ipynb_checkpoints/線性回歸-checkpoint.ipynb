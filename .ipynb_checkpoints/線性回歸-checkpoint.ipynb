{
 "cells": [
  {
   "cell_type": "markdown",
   "metadata": {},
   "source": [
    "## 問題\n",
    "\n",
    "我們有一組資料\n",
    "\n",
    "$(x_1, y_1), (x_2, y_2) , ... , (x_n, y_n)$\n",
    "\n",
    "找出一個數組 $(a,b)$ 使此線性函式\n",
    "\n",
    "$ f(x) = ax + b = y $\n",
    "\n",
    "是最接近此資料集的函式\n",
    "\n",
    "\n",
    "\n"
   ]
  },
  {
   "cell_type": "markdown",
   "metadata": {},
   "source": [
    "## 原理\n",
    "\n",
    "找出一組 a, b 使\n",
    "\n",
    "$g(a, b) = (ax_1+b-y_1)^2+(ax_2+b-y_2)^2+...+(ax_n+b-y_n)^2$ 有最小值\n",
    "\n",
    "2 種解法：\n",
    "\n",
    "### 線性方程式解（Normal Equation）\n",
    "\n",
    "也就是說\n",
    "\n",
    "$ \\frac{\\partial g(a, b)}{\\partial a} = 0 $\n",
    "\n",
    "推導\n",
    "https://blog.csdn.net/l18930738887/article/details/48302857\n",
    "\n",
    "另一種解法\n",
    "\n",
    "### 梯度下降法（Gradient Descent）\n",
    "\n",
    "參考：\n",
    "https://ithelp.ithome.com.tw/m/articles/10187739"
   ]
  },
  {
   "cell_type": "markdown",
   "metadata": {},
   "source": [
    "程式參考 https://ithelp.ithome.com.tw/m/articles/10197248\n",
    "問題的例子可參考 https://brohrer.mcknote.com/zh-Hant/how_machine_learning_works/how_linear_regression_works.html"
   ]
  },
  {
   "cell_type": "code",
   "execution_count": 3,
   "metadata": {},
   "outputs": [
    {
     "data": {
      "image/png": "[encoded data removed]",
      "text/plain": [
       "<matplotlib.figure.Figure at 0x80db1d0>"
      ]
     },
     "metadata": {},
     "output_type": "display_data"
    }
   ],
   "source": [
    "import matplotlib.pyplot as plt\n",
    "plt.plot([1,2,3,4])\n",
    "plt.xlabel(u\"黃軸\")\n",
    "plt.ylabel(u\"縱軸\")\n",
    "plt.show()"
   ]
  },
  {
   "cell_type": "code",
   "execution_count": 23,
   "metadata": {},
   "outputs": [
    {
     "name": "stdout",
     "output_type": "stream",
     "text": [
      "[[-1.39451308]\n",
      " [ 0.18748409]\n",
      " [-1.30228518]\n",
      " [ 0.15668661]\n",
      " [-0.90015883]\n",
      " [ 0.63308281]\n",
      " [-0.83031508]\n",
      " [ 0.29114194]\n",
      " [-0.40520219]\n",
      " [ 0.3432548 ]\n",
      " [ 1.23754719]\n",
      " [-0.7319326 ]\n",
      " [-0.72448025]\n",
      " [ 1.46293929]\n",
      " [ 0.18022331]\n",
      " [-1.45962034]\n",
      " [ 0.27196452]\n",
      " [-0.99850875]\n",
      " [-0.53882277]\n",
      " [ 0.07457617]\n",
      " [ 0.31818654]\n",
      " [-0.25155921]\n",
      " [-0.65022072]\n",
      " [-0.22664911]\n",
      " [-0.02422679]\n",
      " [-0.09476978]\n",
      " [-0.23613899]\n",
      " [ 0.70082314]\n",
      " [-0.10774894]\n",
      " [ 0.48893318]\n",
      " [ 0.66866288]\n",
      " [-1.0509322 ]\n",
      " [-2.60294892]\n",
      " [ 0.23531873]\n",
      " [-0.50617695]\n",
      " [-0.17672841]\n",
      " [ 0.7667218 ]\n",
      " [ 0.00328768]\n",
      " [-0.36978035]\n",
      " [ 0.34765838]\n",
      " [ 0.54412525]\n",
      " [-1.19974117]\n",
      " [ 2.57286638]\n",
      " [-0.36471873]\n",
      " [ 0.0409708 ]\n",
      " [ 0.47855402]\n",
      " [-0.3151519 ]\n",
      " [ 1.96426829]\n",
      " [ 0.86007161]\n",
      " [-0.16825746]\n",
      " [-0.29698819]\n",
      " [ 2.14970298]\n",
      " [-0.89692772]\n",
      " [-0.92656325]\n",
      " [-0.25796097]\n",
      " [ 0.5443354 ]\n",
      " [-0.07077035]\n",
      " [-0.20932393]\n",
      " [ 0.77237552]\n",
      " [ 1.47243997]\n",
      " [-0.51809343]\n",
      " [-0.01037486]\n",
      " [-0.9530815 ]\n",
      " [-0.39608284]\n",
      " [ 0.41091638]\n",
      " [ 0.12527062]\n",
      " [ 0.26480981]\n",
      " [ 0.43934602]\n",
      " [-0.06276221]\n",
      " [-1.48500993]\n",
      " [ 0.78621055]\n",
      " [ 0.24917775]\n",
      " [ 0.32814858]\n",
      " [-0.97663752]\n",
      " [ 0.58485831]\n",
      " [ 0.02758053]\n",
      " [-0.93350834]\n",
      " [-1.44012075]\n",
      " [-1.94072031]\n",
      " [ 1.10694252]\n",
      " [-0.01556938]\n",
      " [ 1.74765972]\n",
      " [-0.65765357]\n",
      " [ 0.07618316]\n",
      " [ 0.92705327]\n",
      " [-0.0174789 ]\n",
      " [ 0.44082515]\n",
      " [-1.09746811]\n",
      " [ 0.82930341]\n",
      " [-0.81208933]\n",
      " [-1.208     ]\n",
      " [ 1.35574539]\n",
      " [-0.20642886]\n",
      " [-0.53318339]\n",
      " [ 1.02761205]\n",
      " [-1.69518392]\n",
      " [-0.05131349]\n",
      " [ 0.47953011]\n",
      " [-0.79277915]\n",
      " [-1.4908517 ]]\n",
      "[-14.60498945  -6.33811062 -25.44517716  -6.96848368 -13.62863995\n",
      "  -6.80694481  23.68724177   7.85865226 -20.23792686  -5.31863325\n",
      "   6.94653889  -6.52091884  -7.18340713  24.961847    12.12721382\n",
      " -36.73774845  -3.84871906 -27.38077115  -1.48060953  -0.73769319\n",
      "  29.31522834 -23.14668053 -27.45728259 -16.10598525   4.5649233\n",
      "  -1.66224661  -2.93955466  18.81361136  -8.17309496  -9.53062757\n",
      "  12.52530458  -9.61795605 -60.79521142   9.79672689  -9.93518374\n",
      "   0.27505744   6.52239398  17.77976094   2.71732828   3.99470621\n",
      "   5.23623154 -31.91122871  59.77527697  -1.29495628  -8.38005661\n",
      "  23.12728135  -9.90343347  36.56516049   5.13582788 -12.78484171\n",
      "  -9.65596636  45.8812521  -30.23417853  -4.80627212 -15.38439638\n",
      "  19.6322532    5.45313343   8.45581682  23.1648372   23.59477572\n",
      "  -3.98030942  -2.54698714 -38.41702318 -11.49168044   8.22217439\n",
      "  -0.13755948   9.70394119   5.09034112 -11.26824015 -39.61763777\n",
      "  13.60960299   4.25805957  21.4358104  -21.85198181  17.00677511\n",
      "  -5.65866487 -16.94795656 -14.61048747 -37.43048794   4.55152511\n",
      "   3.26785201  54.45508859  -4.55547108   4.18514004   9.76896159\n",
      "   1.44996561  14.93300236 -32.40306287  15.70877068 -19.09559694\n",
      " -29.25395398  25.20166953  -9.40508302  -9.12846574  14.22513362\n",
      " -16.22585843   9.02564335   8.65426181   0.61934728  -5.06376147]\n",
      "[-26.00712971   3.5023545  -24.2867741    2.92787943 -16.78578651\n",
      "  11.81424566 -15.48296922   5.43591653  -7.5532067    6.40799381\n",
      "  23.08950732 -13.64781036 -13.50879939  27.29381614   3.3669168\n",
      " -27.22159559   5.07819412 -18.62033811 -10.04567278   1.39624791\n",
      "   5.9403878   -4.68725639 -12.1236134   -4.22260072  -0.44675427\n",
      "  -1.76261449  -4.39961832  13.07782707  -2.00471888   9.1253779\n",
      "  12.47793168 -19.59820889 -48.54845839   4.3946289   -9.43672021\n",
      "  -3.29141436  14.30705519   0.06648164  -6.89247216   6.49013519\n",
      "  10.15489259 -22.37398877  47.9976305   -6.79805605   0.76939653\n",
      "   8.93177225  -5.87347064  36.64526147  16.04833819  -3.1334031\n",
      "  -5.53465729  40.10423226 -16.72551547 -17.27831626  -4.80667056\n",
      "  10.15881268  -1.31494567  -3.89942871  14.41251573  27.47103513\n",
      "  -9.65900199  -0.18836996 -17.77296945  -7.38310053   7.67010627\n",
      "   2.3418673    4.94473513   8.20041311  -1.16556744 -27.69519544\n",
      "  14.67058481   4.65314552   6.12621287 -18.21236725  10.91469908\n",
      "   0.51962368 -17.40786516 -26.85786371 -36.19570259  20.65329791\n",
      "  -0.28526486  32.60479463 -12.26226055   1.42622358  17.29776787\n",
      "  -0.32088389   8.22800381 -20.46625773  15.47440948 -15.14299869\n",
      " -22.52804339  25.29429502  -3.84542605  -9.94047962  19.17352192\n",
      " -31.61563613  -0.95201091   8.94997951 -14.78279998 -27.80416393]\n"
     ]
    },
    {
     "data": {
      "image/png": "[encoded data removed]",
      "text/plain": [
       "<matplotlib.figure.Figure at 0xc1d4ba8>"
      ]
     },
     "metadata": {},
     "output_type": "display_data"
    }
   ],
   "source": [
    "from sklearn.linear_model import LinearRegression\n",
    "import matplotlib.pyplot as plt\n",
    "from sklearn import datasets\n",
    "X,y = datasets.make_regression(n_samples=100, n_features=1, n_targets=1, noise=10)\n",
    "X2,y2 = datasets.make_regression(n_samples=100, n_features=1, n_targets=1, noise=10)\n",
    "\n",
    "\n",
    "model = LinearRegression()\n",
    "model.fit(X,y)\n",
    "predict = model.predict(X)\n",
    "\n",
    "print(X)\n",
    "print(y)\n",
    "print(predict)\n",
    "\n",
    "plt.scatter(X,y,linewidths=0.1)\n",
    "plt.scatter(X2,y2,c='r')\n",
    "plt.plot(X,predict, c='g')\n",
    "plt.show()"
   ]
  },
  {
   "cell_type": "code",
   "execution_count": null,
   "metadata": {
    "collapsed": true
   },
   "outputs": [],
   "source": []
  },
  {
   "cell_type": "code",
   "execution_count": null,
   "metadata": {
    "collapsed": true
   },
   "outputs": [],
   "source": []
  }
 ],
 "metadata": {
  "kernelspec": {
   "display_name": "Python 2",
   "language": "python",
   "name": "python2"
  },
  "language_info": {
   "codemirror_mode": {
    "name": "ipython",
    "version": 2
   },
   "file_extension": ".py",
   "mimetype": "text/x-python",
   "name": "python",
   "nbconvert_exporter": "python",
   "pygments_lexer": "ipython2",
   "version": "2.7.14"
  }
 },
 "nbformat": 4,
 "nbformat_minor": 2
}
