{
 "cells": [
  {
   "cell_type": "markdown",
   "metadata": {},
   "source": [
    "Matplotlib 顯示中文問題\n",
    "\n",
    "參考這裡：http://charlieblovett.pixnet.net/blog/post/309808972-python-matplotlib-%E7%84%A1%E6%B3%95%E9%A1%AF%E7%A4%BA%E4%B8%AD%E6%96%87\n",
    "\n",
    "https://blog.csdn.net/u012150360/article/details/72921855\n",
    "\n",
    "\n",
    "設定檔位置\n",
    "C:\\Anaconda2\\Lib\\site-packages\\matplotlib\\mpl-data"
   ]
  },
  {
   "cell_type": "code",
   "execution_count": null,
   "metadata": {
    "collapsed": true
   },
   "outputs": [],
   "source": []
  }
 ],
 "metadata": {
  "kernelspec": {
   "display_name": "Python 2",
   "language": "python",
   "name": "python2"
  },
  "language_info": {
   "codemirror_mode": {
    "name": "ipython",
    "version": 2
   },
   "file_extension": ".py",
   "mimetype": "text/x-python",
   "name": "python",
   "nbconvert_exporter": "python",
   "pygments_lexer": "ipython2",
   "version": "2.7.14"
  }
 },
 "nbformat": 4,
 "nbformat_minor": 2
}
